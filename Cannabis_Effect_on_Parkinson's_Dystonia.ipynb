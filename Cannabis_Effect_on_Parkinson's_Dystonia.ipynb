{
  "nbformat": 4,
  "nbformat_minor": 0,
  "metadata": {
    "colab": {
      "name": "Cannabis Effect on Parkinson's Dystonia",
      "provenance": [],
      "collapsed_sections": []
    },
    "kernelspec": {
      "name": "python3",
      "display_name": "Python 3"
    },
    "language_info": {
      "name": "python"
    }
  },
  "cells": [
    {
      "cell_type": "code",
      "execution_count": 10,
      "metadata": {
        "id": "FC4WL0KO3myM"
      },
      "outputs": [],
      "source": [
        "import pandas as pd\n",
        "import seaborn as sns\n",
        "import matplotlib.pyplot as plt\n",
        "import numpy as np\n",
        "import matplotlib.cm as cm"
      ]
    },
    {
      "cell_type": "markdown",
      "source": [
        "# *Data from the Fox Insight Study(FI) - Visualized by Leah Tibbets*\n",
        "\n",
        "\n",
        "---\n",
        "\n"
      ],
      "metadata": {
        "id": "xUnlaFepo3nM"
      }
    },
    {
      "cell_type": "markdown",
      "source": [
        "Data used in the preparation of this data vizualization were obtained from the Fox Insight Database (https://foxinsight-info.michaeljfox.org/insight/explore/insight.jsp) on 09/04/2022. For up-to-date information on the study, \n",
        "visit https://foxinsight-info.michaeljfox.org/insight/explore/insight.jsp\n",
        "\n",
        "\n",
        "*The Fox Insight Study (FI) is funded by The Michael J. Fox Foundation for Parkinson’s Research. We would like to thank the Parkinson’s community for participating in this study to make this research possible.* \n"
      ],
      "metadata": {
        "id": "bHGdQzfDa0AM"
      }
    },
    {
      "cell_type": "code",
      "source": [
        "CannDystonia = pd.read_csv('/content/CannDystonia.csv')"
      ],
      "metadata": {
        "id": "QlX2Yzr05IGU"
      },
      "execution_count": 11,
      "outputs": []
    },
    {
      "cell_type": "markdown",
      "source": [
        "## **Histogram 1**\n",
        "Explores the data from the Fox Den study of the effects **cannabis** has on **Parkinson's Dystonia**. The data samples **1000** people with Parkinson's who answered the cannabis questionnaire.\n",
        "\n",
        "# **The legend is:**\n",
        "\n",
        "Light Gray = **Started With Cannabis** (1)\n",
        "\n",
        "Red = **Markedly Worse** (2)\n",
        "\n",
        "Blue = **Mildly Worse** (3)\n",
        "\n",
        "Green = **No Effect** (4)\n",
        "\n",
        "Orange = **Mildly Better** (6)\n",
        "\n",
        "Pink = **Markedly Better** (8)\n",
        "\n",
        "Gray = **Have not had Dystonia** (12)\n",
        "\n",
        "\n",
        "\n",
        "\n"
      ],
      "metadata": {
        "id": "hQ8vzTWpkPLk"
      }
    },
    {
      "cell_type": "code",
      "source": [
        "\n",
        "\n",
        "CannEffectDystonia = CannDystonia['CannEffectDystonia']\n",
        "CannDystoniaAge = CannDystonia[\"age\"]\n",
        "\n",
        "# plot:\n",
        "fig, ax = plt.subplots()\n",
        "\n",
        "ax.set_ylabel(\"Participants\")\n",
        "ax.set_xlabel(\"Effect on Parkinson's Dystonia\")\n",
        "CannEffectDystonia, CannEffectAge , patches = ax.hist(CannEffectDystonia, bins=12, linewidth=1.2, edgecolor=\"white\")\n",
        "\n",
        "\n",
        "\n",
        "colors = cm.get_cmap('Set1')\n",
        "for i, rect in enumerate(patches):\n",
        "    rect.set_fc(colors(i))\n",
        "\n",
        "plt.show()\n",
        "\n",
        "\n"
      ],
      "metadata": {
        "colab": {
          "base_uri": "https://localhost:8080/",
          "height": 279
        },
        "outputId": "1c1f62bb-9719-43b9-a5d6-47eb6c678ec0",
        "id": "A1yMyEMANKqs"
      },
      "execution_count": 18,
      "outputs": [
        {
          "output_type": "display_data",
          "data": {
            "text/plain": [
              "<Figure size 432x288 with 1 Axes>"
            ],
            "image/png": "[encoded data removed]"
          },
          "metadata": {
            "needs_background": "light"
          }
        }
      ]
    },
    {
      "cell_type": "code",
      "source": [
        ""
      ],
      "metadata": {
        "id": "3i1ELknMMWnc"
      },
      "execution_count": 12,
      "outputs": []
    },
    {
      "cell_type": "markdown",
      "source": [
        "**1617 total people answered that had tried cannabis with their Parkinson's Dystonia in the full study. The full study contains 2746 people who answered the cannabis questionnaire**\n",
        "\n",
        "# **Out of that:**\n",
        "\n",
        "712 **better**\n",
        "\n",
        "55 **worse**\n",
        "\n",
        "850 **had no effect**\n",
        "\n",
        "# **That means:**\n",
        "\n",
        "3% were **worse**\n",
        "\n",
        "14% were **a lot better**\n",
        "\n",
        "29% were **mildly better**\n",
        "\n",
        "52% had **no effect**\n",
        "\n",
        "\n",
        "\n",
        "\n"
      ],
      "metadata": {
        "id": "mZ5vuOJfhiFc"
      }
    }
  ]
}